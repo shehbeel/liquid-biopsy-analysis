{
 "cells": [
  {
   "attachments": {},
   "cell_type": "markdown",
   "metadata": {},
   "source": [
    "# Circulating plasma miRNA biomarker selection using RFE\n",
    "\n",
    "## Author: Shehbeel Arif\n",
    "\n",
    "## Purpose: To find a set of circulating miRNAs most predictive of Low-grade Glioma relapse in platient blood plasma samples."
   ]
  },
  {
   "attachments": {},
   "cell_type": "markdown",
   "metadata": {},
   "source": [
    "---"
   ]
  },
  {
   "attachments": {},
   "cell_type": "markdown",
   "metadata": {},
   "source": [
    "## Load libraries"
   ]
  },
  {
   "cell_type": "code",
   "execution_count": 103,
   "metadata": {},
   "outputs": [],
   "source": [
    "# Library for data handling\n",
    "import numpy as np\n",
    "import pandas as pd\n",
    "\n",
    "# Library for performing RFE\n",
    "from sklearn.pipeline import Pipeline\n",
    "#from sklearn.model_selection import RepeatedStratifiedKFold\n",
    "from sklearn.model_selection import StratifiedKFold\n",
    "from sklearn.feature_selection import RFECV\n",
    "#from sklearn.feature_selection import RFE\n",
    "\n",
    "# Import Random Forest Classifier\n",
    "from sklearn.ensemble import RandomForestClassifier\n",
    "# Import Logistic Regression Classifier\n",
    "from sklearn.linear_model import LogisticRegression\n",
    "\n",
    "# Import sklearn library to assess model accuracy\n",
    "from sklearn.model_selection import cross_val_score\n",
    "from sklearn.metrics import confusion_matrix, accuracy_score\n",
    "from statistics import mean, stdev\n",
    "\n",
    "\n",
    "# Library for visualizations\n",
    "import matplotlib.pyplot as plt\n",
    "import seaborn as sns\n",
    "from umap.umap_ import UMAP"
   ]
  },
  {
   "attachments": {},
   "cell_type": "markdown",
   "metadata": {},
   "source": [
    "## Data Preprocessing"
   ]
  },
  {
   "cell_type": "code",
   "execution_count": 24,
   "metadata": {},
   "outputs": [
    {
     "data": {
      "text/html": [
       "<div>\n",
       "<style scoped>\n",
       "    .dataframe tbody tr th:only-of-type {\n",
       "        vertical-align: middle;\n",
       "    }\n",
       "\n",
       "    .dataframe tbody tr th {\n",
       "        vertical-align: top;\n",
       "    }\n",
       "\n",
       "    .dataframe thead th {\n",
       "        text-align: right;\n",
       "    }\n",
       "</style>\n",
       "<table border=\"1\" class=\"dataframe\">\n",
       "  <thead>\n",
       "    <tr style=\"text-align: right;\">\n",
       "      <th></th>\n",
       "      <th>SDG_ID</th>\n",
       "      <th>CSF_Specimen</th>\n",
       "      <th>Plasma_Specimen</th>\n",
       "      <th>Diagnosis</th>\n",
       "      <th>Short_Histology</th>\n",
       "      <th>Tumor_Subtype</th>\n",
       "      <th>Relapse</th>\n",
       "      <th>Survival_Status</th>\n",
       "      <th>CTRL_ANT1</th>\n",
       "      <th>CTRL_ANT2</th>\n",
       "      <th>...</th>\n",
       "      <th>miR-944</th>\n",
       "      <th>miR-95-3p</th>\n",
       "      <th>miR-95-5p</th>\n",
       "      <th>miR-9-5p</th>\n",
       "      <th>miR-96-3p</th>\n",
       "      <th>miR-96-5p</th>\n",
       "      <th>miR-98-3p</th>\n",
       "      <th>miR-99a-5p</th>\n",
       "      <th>miR-99b-3p</th>\n",
       "      <th>miR-99b-5p</th>\n",
       "    </tr>\n",
       "  </thead>\n",
       "  <tbody>\n",
       "    <tr>\n",
       "      <th>0</th>\n",
       "      <td>15635-37</td>\n",
       "      <td>True</td>\n",
       "      <td>True</td>\n",
       "      <td>Low-grade glioma/astrocytoma (WHO grade I/II)</td>\n",
       "      <td>LGG</td>\n",
       "      <td>pilocytic astrocytoma</td>\n",
       "      <td>Yes</td>\n",
       "      <td>Alive</td>\n",
       "      <td>16.0</td>\n",
       "      <td>16.0</td>\n",
       "      <td>...</td>\n",
       "      <td>23.0</td>\n",
       "      <td>44.0</td>\n",
       "      <td>31.0</td>\n",
       "      <td>19.0</td>\n",
       "      <td>21.0</td>\n",
       "      <td>125.0</td>\n",
       "      <td>38.0</td>\n",
       "      <td>891.0</td>\n",
       "      <td>75.0</td>\n",
       "      <td>290.0</td>\n",
       "    </tr>\n",
       "    <tr>\n",
       "      <th>1</th>\n",
       "      <td>15635-46</td>\n",
       "      <td>True</td>\n",
       "      <td>True</td>\n",
       "      <td>Low-grade glioma/astrocytoma (WHO grade I/II)</td>\n",
       "      <td>LGG</td>\n",
       "      <td>pilocytic astrocytoma</td>\n",
       "      <td>No</td>\n",
       "      <td>Alive</td>\n",
       "      <td>41.0</td>\n",
       "      <td>60.0</td>\n",
       "      <td>...</td>\n",
       "      <td>11.0</td>\n",
       "      <td>99.0</td>\n",
       "      <td>172.0</td>\n",
       "      <td>67.0</td>\n",
       "      <td>35.0</td>\n",
       "      <td>62.0</td>\n",
       "      <td>118.0</td>\n",
       "      <td>1972.0</td>\n",
       "      <td>143.0</td>\n",
       "      <td>596.0</td>\n",
       "    </tr>\n",
       "    <tr>\n",
       "      <th>2</th>\n",
       "      <td>15635-60</td>\n",
       "      <td>True</td>\n",
       "      <td>True</td>\n",
       "      <td>Low-grade glioma/astrocytoma (WHO grade I/II)</td>\n",
       "      <td>LGG</td>\n",
       "      <td>pilocytic astrocytoma</td>\n",
       "      <td>No</td>\n",
       "      <td>Alive</td>\n",
       "      <td>12.0</td>\n",
       "      <td>68.0</td>\n",
       "      <td>...</td>\n",
       "      <td>53.0</td>\n",
       "      <td>98.0</td>\n",
       "      <td>127.0</td>\n",
       "      <td>28.0</td>\n",
       "      <td>104.0</td>\n",
       "      <td>20.0</td>\n",
       "      <td>123.0</td>\n",
       "      <td>1020.0</td>\n",
       "      <td>174.0</td>\n",
       "      <td>370.0</td>\n",
       "    </tr>\n",
       "    <tr>\n",
       "      <th>3</th>\n",
       "      <td>15635-68</td>\n",
       "      <td>True</td>\n",
       "      <td>True</td>\n",
       "      <td>Low-grade glioma/astrocytoma (WHO grade I/II)</td>\n",
       "      <td>LGG</td>\n",
       "      <td>pilocytic astrocytoma</td>\n",
       "      <td>No</td>\n",
       "      <td>Alive</td>\n",
       "      <td>99.0</td>\n",
       "      <td>86.0</td>\n",
       "      <td>...</td>\n",
       "      <td>61.0</td>\n",
       "      <td>190.0</td>\n",
       "      <td>162.0</td>\n",
       "      <td>98.0</td>\n",
       "      <td>75.0</td>\n",
       "      <td>256.0</td>\n",
       "      <td>67.0</td>\n",
       "      <td>1842.0</td>\n",
       "      <td>168.0</td>\n",
       "      <td>1263.0</td>\n",
       "    </tr>\n",
       "    <tr>\n",
       "      <th>4</th>\n",
       "      <td>15635-80</td>\n",
       "      <td>True</td>\n",
       "      <td>True</td>\n",
       "      <td>Low-grade glioma/astrocytoma (WHO grade I/II)</td>\n",
       "      <td>LGG</td>\n",
       "      <td>pilocytic astrocytoma</td>\n",
       "      <td>No</td>\n",
       "      <td>Alive</td>\n",
       "      <td>56.0</td>\n",
       "      <td>87.0</td>\n",
       "      <td>...</td>\n",
       "      <td>68.0</td>\n",
       "      <td>82.0</td>\n",
       "      <td>142.0</td>\n",
       "      <td>65.0</td>\n",
       "      <td>55.0</td>\n",
       "      <td>263.0</td>\n",
       "      <td>37.0</td>\n",
       "      <td>377.0</td>\n",
       "      <td>217.0</td>\n",
       "      <td>960.0</td>\n",
       "    </tr>\n",
       "    <tr>\n",
       "      <th>5</th>\n",
       "      <td>15635-90</td>\n",
       "      <td>False</td>\n",
       "      <td>True</td>\n",
       "      <td>Low-grade glioma/astrocytoma (WHO grade I/II)</td>\n",
       "      <td>LGG</td>\n",
       "      <td>pilocytic astrocytoma</td>\n",
       "      <td>Yes</td>\n",
       "      <td>Alive</td>\n",
       "      <td>69.0</td>\n",
       "      <td>52.0</td>\n",
       "      <td>...</td>\n",
       "      <td>40.0</td>\n",
       "      <td>84.0</td>\n",
       "      <td>56.0</td>\n",
       "      <td>81.0</td>\n",
       "      <td>73.0</td>\n",
       "      <td>168.0</td>\n",
       "      <td>46.0</td>\n",
       "      <td>3492.0</td>\n",
       "      <td>155.0</td>\n",
       "      <td>282.0</td>\n",
       "    </tr>\n",
       "    <tr>\n",
       "      <th>6</th>\n",
       "      <td>15635-100</td>\n",
       "      <td>True</td>\n",
       "      <td>True</td>\n",
       "      <td>Low-grade glioma/astrocytoma (WHO grade I/II)</td>\n",
       "      <td>LGG</td>\n",
       "      <td>pilocytic astrocytoma</td>\n",
       "      <td>Yes</td>\n",
       "      <td>Alive</td>\n",
       "      <td>0.0</td>\n",
       "      <td>17.0</td>\n",
       "      <td>...</td>\n",
       "      <td>0.0</td>\n",
       "      <td>57.0</td>\n",
       "      <td>62.0</td>\n",
       "      <td>24.0</td>\n",
       "      <td>22.0</td>\n",
       "      <td>120.0</td>\n",
       "      <td>72.0</td>\n",
       "      <td>3586.0</td>\n",
       "      <td>73.0</td>\n",
       "      <td>919.0</td>\n",
       "    </tr>\n",
       "    <tr>\n",
       "      <th>7</th>\n",
       "      <td>15635-101</td>\n",
       "      <td>True</td>\n",
       "      <td>True</td>\n",
       "      <td>Low-grade glioma/astrocytoma (WHO grade I/II)</td>\n",
       "      <td>LGG</td>\n",
       "      <td>pilocytic astrocytoma</td>\n",
       "      <td>No</td>\n",
       "      <td>Alive</td>\n",
       "      <td>39.0</td>\n",
       "      <td>30.0</td>\n",
       "      <td>...</td>\n",
       "      <td>39.0</td>\n",
       "      <td>62.0</td>\n",
       "      <td>92.0</td>\n",
       "      <td>39.0</td>\n",
       "      <td>27.0</td>\n",
       "      <td>126.0</td>\n",
       "      <td>33.0</td>\n",
       "      <td>1508.0</td>\n",
       "      <td>64.0</td>\n",
       "      <td>254.0</td>\n",
       "    </tr>\n",
       "    <tr>\n",
       "      <th>8</th>\n",
       "      <td>15635-127</td>\n",
       "      <td>False</td>\n",
       "      <td>True</td>\n",
       "      <td>Low-grade glioma/astrocytoma (WHO grade I/II)</td>\n",
       "      <td>LGG</td>\n",
       "      <td>pilocytic astrocytoma</td>\n",
       "      <td>Yes</td>\n",
       "      <td>Alive</td>\n",
       "      <td>16.0</td>\n",
       "      <td>6.0</td>\n",
       "      <td>...</td>\n",
       "      <td>7.0</td>\n",
       "      <td>28.0</td>\n",
       "      <td>50.0</td>\n",
       "      <td>38.0</td>\n",
       "      <td>10.0</td>\n",
       "      <td>113.0</td>\n",
       "      <td>27.0</td>\n",
       "      <td>865.0</td>\n",
       "      <td>44.0</td>\n",
       "      <td>335.0</td>\n",
       "    </tr>\n",
       "    <tr>\n",
       "      <th>9</th>\n",
       "      <td>15635-134</td>\n",
       "      <td>False</td>\n",
       "      <td>True</td>\n",
       "      <td>Low-grade glioma/astrocytoma (WHO grade I/II)</td>\n",
       "      <td>LGG</td>\n",
       "      <td>pilocytic/pilomyxoid astrocytoma</td>\n",
       "      <td>Yes</td>\n",
       "      <td>Alive</td>\n",
       "      <td>28.0</td>\n",
       "      <td>50.0</td>\n",
       "      <td>...</td>\n",
       "      <td>60.0</td>\n",
       "      <td>147.0</td>\n",
       "      <td>104.0</td>\n",
       "      <td>40.0</td>\n",
       "      <td>31.0</td>\n",
       "      <td>180.0</td>\n",
       "      <td>75.0</td>\n",
       "      <td>2621.0</td>\n",
       "      <td>154.0</td>\n",
       "      <td>1349.0</td>\n",
       "    </tr>\n",
       "  </tbody>\n",
       "</table>\n",
       "<p>10 rows × 2110 columns</p>\n",
       "</div>"
      ],
      "text/plain": [
       "      SDG_ID  CSF_Specimen  Plasma_Specimen  \\\n",
       "0   15635-37          True             True   \n",
       "1   15635-46          True             True   \n",
       "2   15635-60          True             True   \n",
       "3   15635-68          True             True   \n",
       "4   15635-80          True             True   \n",
       "5   15635-90         False             True   \n",
       "6  15635-100          True             True   \n",
       "7  15635-101          True             True   \n",
       "8  15635-127         False             True   \n",
       "9  15635-134         False             True   \n",
       "\n",
       "                                       Diagnosis Short_Histology  \\\n",
       "0  Low-grade glioma/astrocytoma (WHO grade I/II)             LGG   \n",
       "1  Low-grade glioma/astrocytoma (WHO grade I/II)             LGG   \n",
       "2  Low-grade glioma/astrocytoma (WHO grade I/II)             LGG   \n",
       "3  Low-grade glioma/astrocytoma (WHO grade I/II)             LGG   \n",
       "4  Low-grade glioma/astrocytoma (WHO grade I/II)             LGG   \n",
       "5  Low-grade glioma/astrocytoma (WHO grade I/II)             LGG   \n",
       "6  Low-grade glioma/astrocytoma (WHO grade I/II)             LGG   \n",
       "7  Low-grade glioma/astrocytoma (WHO grade I/II)             LGG   \n",
       "8  Low-grade glioma/astrocytoma (WHO grade I/II)             LGG   \n",
       "9  Low-grade glioma/astrocytoma (WHO grade I/II)             LGG   \n",
       "\n",
       "                      Tumor_Subtype Relapse Survival_Status  CTRL_ANT1  \\\n",
       "0             pilocytic astrocytoma     Yes           Alive       16.0   \n",
       "1             pilocytic astrocytoma      No           Alive       41.0   \n",
       "2             pilocytic astrocytoma      No           Alive       12.0   \n",
       "3             pilocytic astrocytoma      No           Alive       99.0   \n",
       "4             pilocytic astrocytoma      No           Alive       56.0   \n",
       "5             pilocytic astrocytoma     Yes           Alive       69.0   \n",
       "6             pilocytic astrocytoma     Yes           Alive        0.0   \n",
       "7             pilocytic astrocytoma      No           Alive       39.0   \n",
       "8             pilocytic astrocytoma     Yes           Alive       16.0   \n",
       "9  pilocytic/pilomyxoid astrocytoma     Yes           Alive       28.0   \n",
       "\n",
       "   CTRL_ANT2  ...  miR-944  miR-95-3p  miR-95-5p  miR-9-5p  miR-96-3p  \\\n",
       "0       16.0  ...     23.0       44.0       31.0      19.0       21.0   \n",
       "1       60.0  ...     11.0       99.0      172.0      67.0       35.0   \n",
       "2       68.0  ...     53.0       98.0      127.0      28.0      104.0   \n",
       "3       86.0  ...     61.0      190.0      162.0      98.0       75.0   \n",
       "4       87.0  ...     68.0       82.0      142.0      65.0       55.0   \n",
       "5       52.0  ...     40.0       84.0       56.0      81.0       73.0   \n",
       "6       17.0  ...      0.0       57.0       62.0      24.0       22.0   \n",
       "7       30.0  ...     39.0       62.0       92.0      39.0       27.0   \n",
       "8        6.0  ...      7.0       28.0       50.0      38.0       10.0   \n",
       "9       50.0  ...     60.0      147.0      104.0      40.0       31.0   \n",
       "\n",
       "   miR-96-5p  miR-98-3p  miR-99a-5p  miR-99b-3p  miR-99b-5p  \n",
       "0      125.0       38.0       891.0        75.0       290.0  \n",
       "1       62.0      118.0      1972.0       143.0       596.0  \n",
       "2       20.0      123.0      1020.0       174.0       370.0  \n",
       "3      256.0       67.0      1842.0       168.0      1263.0  \n",
       "4      263.0       37.0       377.0       217.0       960.0  \n",
       "5      168.0       46.0      3492.0       155.0       282.0  \n",
       "6      120.0       72.0      3586.0        73.0       919.0  \n",
       "7      126.0       33.0      1508.0        64.0       254.0  \n",
       "8      113.0       27.0       865.0        44.0       335.0  \n",
       "9      180.0       75.0      2621.0       154.0      1349.0  \n",
       "\n",
       "[10 rows x 2110 columns]"
      ]
     },
     "execution_count": 24,
     "metadata": {},
     "output_type": "execute_result"
    }
   ],
   "source": [
    "# Load data\n",
    "data_dir = '/Users/shehbeel/Documents/liquid-biopsy-analysis/data/'\n",
    "meta = pd.read_csv(data_dir + 'lb_metadata.csv')\n",
    "counts = pd.read_csv(data_dir + 'lb_plasma_matrix.csv', index_col='gene')\n",
    "\n",
    "# Select only LGG samples\n",
    "meta = meta[meta['Short_Histology'] == 'LGG']\n",
    "\n",
    "# Transpose counts\n",
    "counts = counts.iloc[:2102,]\n",
    "counts = counts.T\n",
    "counts = counts.reset_index()\n",
    "\n",
    "# Merge counts and meta data\n",
    "df = pd.merge(meta, counts, left_on='SDG_ID', right_on='index').drop(['index'], axis=1)\n",
    "\n",
    "# Sanity check\n",
    "df"
   ]
  },
  {
   "cell_type": "code",
   "execution_count": 46,
   "metadata": {},
   "outputs": [
    {
     "name": "stdout",
     "output_type": "stream",
     "text": [
      "[[  178.    69.  7346. ...   891.    75.   290.]\n",
      " [  480.    43.  8435. ...  1972.   143.   596.]\n",
      " [  740.    73.  1372. ...  1020.   174.   370.]\n",
      " [  481.    79. 18243. ...  1842.   168.  1263.]\n",
      " [ 3358.    89.  3032. ...   377.   217.   960.]]\n",
      "['Yes' 'No' 'No' 'No' 'No']\n"
     ]
    }
   ],
   "source": [
    "# Split the dataset into training data and labels\n",
    "X = df.iloc[:,27:].values\n",
    "y = df.loc[:, df.columns == 'Relapse'].values.ravel()\n",
    "\n",
    "# Save feature names\n",
    "columns = df.columns.to_list()\n",
    "features = columns[27:]\n",
    "\n",
    "# Sanity check\n",
    "print(X[:5])\n",
    "print(y[:5])"
   ]
  },
  {
   "cell_type": "code",
   "execution_count": 91,
   "metadata": {},
   "outputs": [
    {
     "name": "stdout",
     "output_type": "stream",
     "text": [
      "(8, 2083) (2, 2083) (8,) (2,)\n"
     ]
    }
   ],
   "source": [
    "# Library for splitting data into Training and Testing datasets\n",
    "from sklearn.model_selection import train_test_split\n",
    "\n",
    "# Split the data into training and testing set\n",
    "X_train, X_test, y_train, y_test = train_test_split(X, y, test_size=0.2, shuffle=True, stratify=y, random_state=123)\n",
    "\n",
    "#Sanity check\n",
    "print(X_train.shape, X_test.shape, y_train.shape, y_test.shape)"
   ]
  },
  {
   "attachments": {},
   "cell_type": "markdown",
   "metadata": {},
   "source": [
    "---"
   ]
  },
  {
   "attachments": {},
   "cell_type": "markdown",
   "metadata": {},
   "source": [
    "## Visualize the data"
   ]
  },
  {
   "cell_type": "code",
   "execution_count": 93,
   "metadata": {},
   "outputs": [
    {
     "name": "stderr",
     "output_type": "stream",
     "text": [
      "/Users/shehbeel/opt/anaconda3/lib/python3.9/site-packages/umap/umap_.py:2344: UserWarning: n_neighbors is larger than the dataset size; truncating to X.shape[0] - 1\n",
      "  warn(\n"
     ]
    },
    {
     "data": {
      "text/plain": [
       "<AxesSubplot:xlabel='0', ylabel='1'>"
      ]
     },
     "execution_count": 93,
     "metadata": {},
     "output_type": "execute_result"
    },
    {
     "data": {
      "image/png": "[encoded data removed]",
      "text/plain": [
       "<Figure size 640x480 with 1 Axes>"
      ]
     },
     "metadata": {},
     "output_type": "display_data"
    }
   ],
   "source": [
    "# Plot UMAP\n",
    "umap_2d = UMAP(n_components=2, init='random', random_state=0)\n",
    "\n",
    "proj_2d = umap_2d.fit_transform(X)\n",
    "proj_2d = pd.DataFrame(proj_2d)\n",
    "\n",
    "sns.scatterplot(data=proj_2d, x=0, y=1, hue=df.Relapse, palette=\"colorblind\")"
   ]
  },
  {
   "attachments": {},
   "cell_type": "markdown",
   "metadata": {},
   "source": [
    "---"
   ]
  },
  {
   "attachments": {},
   "cell_type": "markdown",
   "metadata": {},
   "source": [
    "## Random Forest (CV)"
   ]
  },
  {
   "cell_type": "code",
   "execution_count": 105,
   "metadata": {},
   "outputs": [
    {
     "name": "stdout",
     "output_type": "stream",
     "text": [
      "List of possible accuracy: [1.0, 0.5, 1.0, 0.5, 1.0]\n",
      "\n",
      "Maximum Accuracy That can be obtained from this model is: 100.0 %\n",
      "\n",
      "Minimum Accuracy: 50.0 %\n",
      "\n",
      "Overall Accuracy: 80.0 %\n",
      "\n",
      "Standard Deviation is: 0.27386127875258304\n"
     ]
    }
   ],
   "source": [
    "# Create StratifiedKFold object.\n",
    "skf = StratifiedKFold(n_splits=5, shuffle=True, random_state=123)\n",
    "lst_accu_stratified = []\n",
    "\n",
    "rfc = RandomForestClassifier(max_depth=3, random_state=123)\n",
    "\n",
    "for train_index, test_index in skf.split(X, y):\n",
    "    x_train_fold, x_test_fold = X[train_index], X[test_index]\n",
    "    y_train_fold, y_test_fold = y[train_index], y[test_index]\n",
    "    rfc.fit(x_train_fold, y_train_fold)\n",
    "    lst_accu_stratified.append(rfc.score(x_test_fold, y_test_fold))\n",
    "  \n",
    "# Print the output\n",
    "print('List of possible accuracy:', lst_accu_stratified)\n",
    "print('\\nMaximum Accuracy That can be obtained from this model is:',\n",
    "      max(lst_accu_stratified)*100, '%')\n",
    "print('\\nMinimum Accuracy:',\n",
    "      min(lst_accu_stratified)*100, '%')\n",
    "print('\\nOverall Accuracy:',\n",
    "      mean(lst_accu_stratified)*100, '%')\n",
    "print('\\nStandard Deviation is:', stdev(lst_accu_stratified))"
   ]
  },
  {
   "cell_type": "code",
   "execution_count": 125,
   "metadata": {},
   "outputs": [
    {
     "data": {
      "text/plain": [
       "<AxesSubplot:xlabel='Predicted', ylabel='Actual'>"
      ]
     },
     "execution_count": 125,
     "metadata": {},
     "output_type": "execute_result"
    },
    {
     "data": {
      "image/png": "[encoded data removed]",
      "text/plain": [
       "<Figure size 700x500 with 2 Axes>"
      ]
     },
     "metadata": {},
     "output_type": "display_data"
    }
   ],
   "source": [
    "# Build confusion matrix\n",
    "y_pred = rfc.predict(X_test)\n",
    "cm = confusion_matrix(y_test, y_pred)\n",
    "cm = pd.DataFrame(cm, columns=np.unique(y_test), index = np.unique(y_test))\n",
    "cm.index.name = 'Actual'\n",
    "cm.columns.name = 'Predicted'\n",
    "plt.figure(figsize = (7,5))\n",
    "sns.set(font_scale=1.4)#for label size\n",
    "sns.heatmap(cm, cmap=\"Reds\", annot=True,annot_kws={\"size\": 16})# font size"
   ]
  },
  {
   "cell_type": "code",
   "execution_count": 162,
   "metadata": {},
   "outputs": [
    {
     "data": {
      "text/html": [
       "<div>\n",
       "<style scoped>\n",
       "    .dataframe tbody tr th:only-of-type {\n",
       "        vertical-align: middle;\n",
       "    }\n",
       "\n",
       "    .dataframe tbody tr th {\n",
       "        vertical-align: top;\n",
       "    }\n",
       "\n",
       "    .dataframe thead th {\n",
       "        text-align: right;\n",
       "    }\n",
       "</style>\n",
       "<table border=\"1\" class=\"dataframe\">\n",
       "  <thead>\n",
       "    <tr style=\"text-align: right;\">\n",
       "      <th></th>\n",
       "      <th>features</th>\n",
       "      <th>importance</th>\n",
       "    </tr>\n",
       "  </thead>\n",
       "  <tbody>\n",
       "    <tr>\n",
       "      <th>0</th>\n",
       "      <td>miR-4686</td>\n",
       "      <td>0.030</td>\n",
       "    </tr>\n",
       "    <tr>\n",
       "      <th>1</th>\n",
       "      <td>miR-3127-5p</td>\n",
       "      <td>0.020</td>\n",
       "    </tr>\n",
       "    <tr>\n",
       "      <th>2</th>\n",
       "      <td>miR-4735-5p</td>\n",
       "      <td>0.020</td>\n",
       "    </tr>\n",
       "    <tr>\n",
       "      <th>3</th>\n",
       "      <td>miR-578</td>\n",
       "      <td>0.020</td>\n",
       "    </tr>\n",
       "    <tr>\n",
       "      <th>4</th>\n",
       "      <td>miR-4725-3p</td>\n",
       "      <td>0.020</td>\n",
       "    </tr>\n",
       "    <tr>\n",
       "      <th>...</th>\n",
       "      <td>...</td>\n",
       "      <td>...</td>\n",
       "    </tr>\n",
       "    <tr>\n",
       "      <th>88</th>\n",
       "      <td>miR-656-3p</td>\n",
       "      <td>0.006</td>\n",
       "    </tr>\n",
       "    <tr>\n",
       "      <th>89</th>\n",
       "      <td>miR-5692c</td>\n",
       "      <td>0.006</td>\n",
       "    </tr>\n",
       "    <tr>\n",
       "      <th>90</th>\n",
       "      <td>miR-4511</td>\n",
       "      <td>0.004</td>\n",
       "    </tr>\n",
       "    <tr>\n",
       "      <th>91</th>\n",
       "      <td>miR-212-5p</td>\n",
       "      <td>0.004</td>\n",
       "    </tr>\n",
       "    <tr>\n",
       "      <th>92</th>\n",
       "      <td>miR-17-5p</td>\n",
       "      <td>0.004</td>\n",
       "    </tr>\n",
       "  </tbody>\n",
       "</table>\n",
       "<p>93 rows × 2 columns</p>\n",
       "</div>"
      ],
      "text/plain": [
       "       features  importance\n",
       "0      miR-4686       0.030\n",
       "1   miR-3127-5p       0.020\n",
       "2   miR-4735-5p       0.020\n",
       "3       miR-578       0.020\n",
       "4   miR-4725-3p       0.020\n",
       "..          ...         ...\n",
       "88   miR-656-3p       0.006\n",
       "89    miR-5692c       0.006\n",
       "90     miR-4511       0.004\n",
       "91   miR-212-5p       0.004\n",
       "92    miR-17-5p       0.004\n",
       "\n",
       "[93 rows x 2 columns]"
      ]
     },
     "execution_count": 162,
     "metadata": {},
     "output_type": "execute_result"
    }
   ],
   "source": [
    "# What are the most important features?\n",
    "feature_list = df.iloc[:,27:].columns\n",
    "#feature_list = feature_list.drop(['sample_name', 'gender', 'treatment'])\n",
    "\n",
    "imp_features = pd.Series(rfc.feature_importances_, index=feature_list)\n",
    "\n",
    "imp_genes = imp_features.sort_values(ascending=False).to_frame().reset_index()\n",
    "imp_genes.columns = [\"features\", \"importance\"]\n",
    "\n",
    "rfc_imp_genes = imp_genes[~(imp_genes == 0.000000).any(axis=1)]\n",
    "rfc_imp_genes"
   ]
  },
  {
   "cell_type": "code",
   "execution_count": 203,
   "metadata": {},
   "outputs": [
    {
     "name": "stderr",
     "output_type": "stream",
     "text": [
      "/Users/shehbeel/opt/anaconda3/lib/python3.9/site-packages/umap/umap_.py:2344: UserWarning: n_neighbors is larger than the dataset size; truncating to X.shape[0] - 1\n",
      "  warn(\n"
     ]
    },
    {
     "data": {
      "text/plain": [
       "Text(0, 0.5, 'UMAP2')"
      ]
     },
     "execution_count": 203,
     "metadata": {},
     "output_type": "execute_result"
    },
    {
     "data": {
      "image/png": "[encoded data removed]",
      "text/plain": [
       "<Figure size 640x480 with 1 Axes>"
      ]
     },
     "metadata": {},
     "output_type": "display_data"
    }
   ],
   "source": [
    "# Plot UMAP\n",
    "umap_2d = UMAP(n_components=2, init='random', random_state=0)\n",
    "\n",
    "proj_2d = umap_2d.fit_transform(df[rfc_imp_genes.features.to_list()])\n",
    "proj_2d = pd.DataFrame(proj_2d)\n",
    "\n",
    "sns.scatterplot(data=proj_2d, x=0, y=1, hue=df.Relapse, palette=\"deep\", s=100)\n",
    "plt.legend(loc='upper left', bbox_to_anchor=(1,1))\n",
    "plt.title('Low-grade Glioma Relapse [93 miRNAs by RF]')\n",
    "plt.xlabel('UMAP1')\n",
    "plt.ylabel('UMAP2')"
   ]
  },
  {
   "attachments": {},
   "cell_type": "markdown",
   "metadata": {},
   "source": [
    "---"
   ]
  },
  {
   "attachments": {},
   "cell_type": "markdown",
   "metadata": {},
   "source": [
    "## Logistic Regression (CV)"
   ]
  },
  {
   "cell_type": "code",
   "execution_count": 117,
   "metadata": {},
   "outputs": [
    {
     "name": "stdout",
     "output_type": "stream",
     "text": [
      "List of possible accuracy: [1.0, 1.0, 1.0, 1.0, 1.0]\n",
      "\n",
      "Maximum Accuracy That can be obtained from this model is: 100.0 %\n",
      "\n",
      "Minimum Accuracy: 100.0 %\n",
      "\n",
      "Overall Accuracy: 100.0 %\n",
      "\n",
      "Standard Deviation is: 0.0\n"
     ]
    }
   ],
   "source": [
    "# Create StratifiedKFold object.\n",
    "skf = StratifiedKFold(n_splits=5, shuffle=True, random_state=123)\n",
    "lst_accu_stratified = []\n",
    "\n",
    "lr = LogisticRegression(max_iter=40, random_state=123)\n",
    "\n",
    "for train_index, test_index in skf.split(X, y):\n",
    "    x_train_fold, x_test_fold = X[train_index], X[test_index]\n",
    "    y_train_fold, y_test_fold = y[train_index], y[test_index]\n",
    "    lr.fit(x_train_fold, y_train_fold)\n",
    "    lst_accu_stratified.append(rfc.score(x_test_fold, y_test_fold))\n",
    "  \n",
    "# Print the output\n",
    "print('List of possible accuracy:', lst_accu_stratified)\n",
    "print('\\nMaximum Accuracy That can be obtained from this model is:',\n",
    "      max(lst_accu_stratified)*100, '%')\n",
    "print('\\nMinimum Accuracy:',\n",
    "      min(lst_accu_stratified)*100, '%')\n",
    "print('\\nOverall Accuracy:',\n",
    "      mean(lst_accu_stratified)*100, '%')\n",
    "print('\\nStandard Deviation is:', stdev(lst_accu_stratified))"
   ]
  },
  {
   "cell_type": "code",
   "execution_count": 119,
   "metadata": {},
   "outputs": [
    {
     "data": {
      "text/plain": [
       "<AxesSubplot:xlabel='Predicted', ylabel='Actual'>"
      ]
     },
     "execution_count": 119,
     "metadata": {},
     "output_type": "execute_result"
    },
    {
     "data": {
      "image/png": "[encoded data removed]",
      "text/plain": [
       "<Figure size 700x500 with 2 Axes>"
      ]
     },
     "metadata": {},
     "output_type": "display_data"
    }
   ],
   "source": [
    "# Build confusion matrix\n",
    "y_pred = lr.predict(X_test)\n",
    "cm = confusion_matrix(y_test, y_pred)\n",
    "cm = pd.DataFrame(cm, columns=np.unique(y_test), index = np.unique(y_test))\n",
    "cm.index.name = 'Actual'\n",
    "cm.columns.name = 'Predicted'\n",
    "plt.figure(figsize = (7,5))\n",
    "sns.set(font_scale=1.4)#for label size\n",
    "sns.heatmap(cm, cmap=\"Reds\", annot=True,annot_kws={\"size\": 16})# font size"
   ]
  },
  {
   "cell_type": "code",
   "execution_count": 166,
   "metadata": {},
   "outputs": [
    {
     "data": {
      "text/html": [
       "<div>\n",
       "<style scoped>\n",
       "    .dataframe tbody tr th:only-of-type {\n",
       "        vertical-align: middle;\n",
       "    }\n",
       "\n",
       "    .dataframe tbody tr th {\n",
       "        vertical-align: top;\n",
       "    }\n",
       "\n",
       "    .dataframe thead th {\n",
       "        text-align: right;\n",
       "    }\n",
       "</style>\n",
       "<table border=\"1\" class=\"dataframe\">\n",
       "  <thead>\n",
       "    <tr style=\"text-align: right;\">\n",
       "      <th></th>\n",
       "      <th>features</th>\n",
       "      <th>importance</th>\n",
       "    </tr>\n",
       "  </thead>\n",
       "  <tbody>\n",
       "    <tr>\n",
       "      <th>1983</th>\n",
       "      <td>let-7f-5p</td>\n",
       "      <td>0.000004</td>\n",
       "    </tr>\n",
       "    <tr>\n",
       "      <th>1984</th>\n",
       "      <td>miR-6124</td>\n",
       "      <td>-0.000004</td>\n",
       "    </tr>\n",
       "    <tr>\n",
       "      <th>1985</th>\n",
       "      <td>miR-4429</td>\n",
       "      <td>-0.000004</td>\n",
       "    </tr>\n",
       "    <tr>\n",
       "      <th>1986</th>\n",
       "      <td>let-7g-3p</td>\n",
       "      <td>-0.000004</td>\n",
       "    </tr>\n",
       "    <tr>\n",
       "      <th>1987</th>\n",
       "      <td>miR-3677-5p</td>\n",
       "      <td>-0.000004</td>\n",
       "    </tr>\n",
       "    <tr>\n",
       "      <th>...</th>\n",
       "      <td>...</td>\n",
       "      <td>...</td>\n",
       "    </tr>\n",
       "    <tr>\n",
       "      <th>2078</th>\n",
       "      <td>miR-451a</td>\n",
       "      <td>0.000064</td>\n",
       "    </tr>\n",
       "    <tr>\n",
       "      <th>2079</th>\n",
       "      <td>miR-6870-3p</td>\n",
       "      <td>-0.000064</td>\n",
       "    </tr>\n",
       "    <tr>\n",
       "      <th>2080</th>\n",
       "      <td>miR-671-5p</td>\n",
       "      <td>-0.000070</td>\n",
       "    </tr>\n",
       "    <tr>\n",
       "      <th>2081</th>\n",
       "      <td>miR-223-3p</td>\n",
       "      <td>0.000102</td>\n",
       "    </tr>\n",
       "    <tr>\n",
       "      <th>2082</th>\n",
       "      <td>miR-6126</td>\n",
       "      <td>-0.000153</td>\n",
       "    </tr>\n",
       "  </tbody>\n",
       "</table>\n",
       "<p>100 rows × 2 columns</p>\n",
       "</div>"
      ],
      "text/plain": [
       "         features  importance\n",
       "1983    let-7f-5p    0.000004\n",
       "1984     miR-6124   -0.000004\n",
       "1985     miR-4429   -0.000004\n",
       "1986    let-7g-3p   -0.000004\n",
       "1987  miR-3677-5p   -0.000004\n",
       "...           ...         ...\n",
       "2078     miR-451a    0.000064\n",
       "2079  miR-6870-3p   -0.000064\n",
       "2080   miR-671-5p   -0.000070\n",
       "2081   miR-223-3p    0.000102\n",
       "2082     miR-6126   -0.000153\n",
       "\n",
       "[100 rows x 2 columns]"
      ]
     },
     "execution_count": 166,
     "metadata": {},
     "output_type": "execute_result"
    }
   ],
   "source": [
    "# What are the most important features?\n",
    "feature_list = df.iloc[:,27:].columns\n",
    "\n",
    "imp_features = pd.Series(lr.coef_[0], index=feature_list)\n",
    "\n",
    "imp_genes = imp_features.sort_values(ascending=False).to_frame().reset_index()\n",
    "imp_genes.columns = [\"features\", \"importance\"]\n",
    "\n",
    "#imp_genes_fil = imp_genes[(imp_genes.importance > 0.00001) | (imp_genes.importance < -0.00001)]\n",
    "imp_genes_fil = imp_genes.iloc[imp_genes['importance'].abs().argsort()].reset_index(drop=True)\n",
    "lr_genes_100 = imp_genes_fil.tail(100)\n",
    "lr_genes_100"
   ]
  },
  {
   "cell_type": "code",
   "execution_count": 204,
   "metadata": {},
   "outputs": [
    {
     "name": "stderr",
     "output_type": "stream",
     "text": [
      "/Users/shehbeel/opt/anaconda3/lib/python3.9/site-packages/umap/umap_.py:2344: UserWarning: n_neighbors is larger than the dataset size; truncating to X.shape[0] - 1\n",
      "  warn(\n"
     ]
    },
    {
     "data": {
      "text/plain": [
       "Text(0, 0.5, 'UMAP2')"
      ]
     },
     "execution_count": 204,
     "metadata": {},
     "output_type": "execute_result"
    },
    {
     "data": {
      "image/png": "[encoded data removed]",
      "text/plain": [
       "<Figure size 640x480 with 1 Axes>"
      ]
     },
     "metadata": {},
     "output_type": "display_data"
    }
   ],
   "source": [
    "# Plot UMAP\n",
    "umap_2d = UMAP(n_components=2, init='random', random_state=0)\n",
    "\n",
    "proj_2d = umap_2d.fit_transform(df[lr_genes_100['features'].to_list()])\n",
    "proj_2d = pd.DataFrame(proj_2d)\n",
    "\n",
    "sns.scatterplot(data=proj_2d, x=0, y=1, hue=df.Relapse, palette=\"deep\", s=100)\n",
    "plt.legend(loc='upper left', bbox_to_anchor=(1,1))\n",
    "plt.title('Low-grade Glioma Relapse [100 miRNAs by LR]')\n",
    "plt.xlabel('UMAP1')\n",
    "plt.ylabel('UMAP2')"
   ]
  },
  {
   "cell_type": "code",
   "execution_count": 170,
   "metadata": {},
   "outputs": [
    {
     "data": {
      "text/plain": [
       "['miR-6069',\n",
       " 'miR-106b-5p',\n",
       " 'miR-4793-5p',\n",
       " 'miR-20a-5p',\n",
       " 'miR-451a',\n",
       " 'miR-3943',\n",
       " 'miR-19a-3p',\n",
       " 'miR-6825-3p',\n",
       " 'miR-3157-5p',\n",
       " 'miR-17-5p',\n",
       " 'miR-6741-5p']"
      ]
     },
     "execution_count": 170,
     "metadata": {},
     "output_type": "execute_result"
    }
   ],
   "source": [
    "\n",
    "mirna_intersected = list(set(rfc_imp_genes.features.to_list()) & set(lr_genes_100.features.to_list()))\n",
    "mirna_intersected"
   ]
  },
  {
   "cell_type": "code",
   "execution_count": 206,
   "metadata": {},
   "outputs": [
    {
     "name": "stderr",
     "output_type": "stream",
     "text": [
      "/Users/shehbeel/opt/anaconda3/lib/python3.9/site-packages/umap/umap_.py:2344: UserWarning: n_neighbors is larger than the dataset size; truncating to X.shape[0] - 1\n",
      "  warn(\n"
     ]
    },
    {
     "data": {
      "image/png": "[encoded data removed]",
      "text/plain": [
       "<Figure size 640x480 with 1 Axes>"
      ]
     },
     "metadata": {},
     "output_type": "display_data"
    }
   ],
   "source": [
    "# Plot UMAP\n",
    "umap_2d = UMAP(n_components=2, init='random', random_state=0)\n",
    "\n",
    "proj_2d = umap_2d.fit_transform(df[mirna_intersected])\n",
    "proj_2d = pd.DataFrame(proj_2d)\n",
    "\n",
    "#sns.set_style(style='ticks')\n",
    "#sns.set_context('paper', font_scale = 2) # 'poster'\n",
    "\n",
    "sns.scatterplot(data=proj_2d, x=0, y=1, hue=df.Relapse, palette=\"deep\", s=100)\n",
    "plt.legend(loc='upper left', bbox_to_anchor=(1,1))\n",
    "plt.title('Low-grade Glioma Relapse [11 miRNAs by RF + LR]')\n",
    "plt.xlabel('UMAP1')\n",
    "plt.ylabel('UMAP2')\n",
    "\n",
    "plt.show()"
   ]
  },
  {
   "attachments": {},
   "cell_type": "markdown",
   "metadata": {},
   "source": [
    "---"
   ]
  }
 ],
 "metadata": {
  "kernelspec": {
   "display_name": "base",
   "language": "python",
   "name": "python3"
  },
  "language_info": {
   "codemirror_mode": {
    "name": "ipython",
    "version": 3
   },
   "file_extension": ".py",
   "mimetype": "text/x-python",
   "name": "python",
   "nbconvert_exporter": "python",
   "pygments_lexer": "ipython3",
   "version": "3.9.13"
  },
  "orig_nbformat": 4
 },
 "nbformat": 4,
 "nbformat_minor": 2
}
